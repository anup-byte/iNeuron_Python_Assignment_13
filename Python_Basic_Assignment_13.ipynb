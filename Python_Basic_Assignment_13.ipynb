{
 "cells": [
  {
   "cell_type": "markdown",
   "metadata": {},
   "source": [
    "Q1. What advantages do Excel spreadsheets have over CSV spreadsheets?"
   ]
  },
  {
   "cell_type": "markdown",
   "metadata": {},
   "source": [
    "1) Excel is a binary file that holds information about all the worksheets in a workbook while CSV stands for \n",
    "   Comma Separated Values. It is a plain text format with a series of values separated by commas.\n",
    "    \n",
    "2) An Excel not only stores data but can also do operations on the data while A CSV file is just a text file,\n",
    "   it stores data but does not contain formatting, formulas, macros, etc. It is also known as flat files  \n",
    "    \n",
    "3) Excel is a spreadsheet that saves files into its own proprietary format viz xls or xlsx while CSV is a format\n",
    "   for saving tabular information into a delimited text file with extension .csv    \n",
    "    \n",
    "4) Files saved in excel cannot be opened or edited by text editors while CSV files can be opened or edited by\n",
    "   text editors like notepad.\n",
    "    \n",
    "5) In data-warehouse, Excel is preferable for detailed standardized schema specification while In \n",
    "   data-warehouse, CSV follows a fairly flat, simple schema    \n",
    "    \n",
    "6) Any programming language library to parse Excel data is generally larger, slower and complicated while \n",
    "   Any programming language to parse CSV data is trivial, generating it is extremely easy    \n",
    "    \n",
    "7) With no clear distinction or separation between numeric values and text, Excel can mess up with your postal \n",
    "   codes and credit card numbers with its auto formatting features while CSV is safe and can clearly \n",
    "   differentiate between the numeric values and text. CSV does not manipulate data and stores it as-is. \n",
    "\n",
    "8) In Excel, you have to have a start tag and end tag for each column in each row while In CSV, you write column\n",
    "   headers only once.\n",
    "    \n",
    "9) Excel consumes more memory while importing data while Importing CSV files can be much faster, and it also \n",
    "   consumes less memory   \n",
    "    \n",
    "10) Reading large files user is much easier in Excel for the end user. Also, you can have additional functions\n",
    "    like selecting individual cells for import, convert dates and time automatically, reading formulas and their\n",
    "    results, filters, sorting, etc. while Reading large files in CSV will not be as easier as Excel for the\n",
    "    End User.\n",
    "    \n",
    "11) Apart from text, data can also be stored in form of charts and graphs while Each record is stored as one \n",
    "    line of a text file, and every newline signifies a new database row. CSV can not store charts or graphs.\n",
    "    \n",
    "12) Excel file can be opened with Microsoft Excel doc only while CSV can be opened with any text editor in\n",
    "    Windows like notepad, MS Excel, Microsoft Works 9, etc. \n",
    "    \n",
    "13) Excel can connect to external data sources to fetch data. You can use custom add-in in Excel to increase \n",
    "    its functionality. Excel allows for Review of Data with detailed tracking and commenting feature.   \n",
    "    \n",
    "14) As a developer, it’s difficult to programmatically manipulate Excel files since the Excel is proprietary. \n",
    "    This is especially true for languages other than .NET while As a developer it’s easy to programmatically \n",
    "    manipulate CSV since, after all, they are simple text files.    "
   ]
  },
  {
   "cell_type": "markdown",
   "metadata": {},
   "source": [
    "Q2.What do you pass to csv.reader() and csv.writer() to create reader and writer objects?\n",
    " Ans: We can pass \"csvfile\" to create reader and writer objects. "
   ]
  },
  {
   "cell_type": "markdown",
   "metadata": {},
   "source": [
    "Q3. What modes do File objects for reader and writer objects need to be opened in?\n",
    "\n",
    "Ans: For reading 'r' mode and for writing 'w' mode."
   ]
  },
  {
   "cell_type": "markdown",
   "metadata": {},
   "source": [
    "Q4. What method takes a list argument and writes it to a CSV file?"
   ]
  },
  {
   "cell_type": "code",
   "execution_count": 2,
   "metadata": {},
   "outputs": [],
   "source": [
    "import csv\n",
    "persons=[('Lata',22,45),('Anil',21,56),('John',20,60)]\n",
    "csvfile=open('persons.csv','w', newline='')\n",
    "obj=csv.writer(csvfile)\n",
    "for person in persons:\n",
    "    obj.writerow(person)\n",
    "csvfile.close()"
   ]
  },
  {
   "cell_type": "markdown",
   "metadata": {},
   "source": [
    "Q5. What do the keyword arguments delimiter and line terminator do?\n",
    "\n",
    "Ans: delimiter - It refers to the character used to separate values (or fields) in the CSV file. It defaults \n",
    "     to comma (,).\n",
    "        \n",
    "     lineterminator - It refers to the character sequence used to terminate the line. By default, the line            terminator is a newline. It defaults to \\r\\n.        "
   ]
  },
  {
   "cell_type": "markdown",
   "metadata": {},
   "source": [
    "Q6. What function takes a string of JSON data and returns a Python data structure?"
   ]
  },
  {
   "cell_type": "code",
   "execution_count": 8,
   "metadata": {},
   "outputs": [
    {
     "name": "stdout",
     "output_type": "stream",
     "text": [
      "<class 'dict'>\n",
      "{\"name\": \"Anup\", \"age\": 30, \"city\": \"New York\"}\n",
      "<class 'str'>\n"
     ]
    }
   ],
   "source": [
    "import json\n",
    "\n",
    "# a Python object (dict):\n",
    "x = {\n",
    "  \"name\": \"Anup\",\n",
    "  \"age\": 30,\n",
    "  \"city\": \"New York\"\n",
    "}\n",
    "print(type(x))\n",
    "\n",
    "# convert into JSON:\n",
    "y = json.dumps(x)\n",
    "\n",
    "# the result is a JSON string:\n",
    "print(y)\n",
    "print(type(y))"
   ]
  },
  {
   "cell_type": "markdown",
   "metadata": {},
   "source": [
    "Q7. What function takes a Python data structure and returns a string of JSON data?"
   ]
  },
  {
   "cell_type": "code",
   "execution_count": 7,
   "metadata": {},
   "outputs": [
    {
     "name": "stdout",
     "output_type": "stream",
     "text": [
      "<class 'dict'>\n",
      "{\"name\": \"John\", \"age\": 30, \"city\": \"New York\"}\n",
      "<class 'str'>\n"
     ]
    }
   ],
   "source": [
    "import json\n",
    "\n",
    "# a Python object (dict):\n",
    "x = {\n",
    "  \"name\": \"John\",\n",
    "  \"age\": 30,\n",
    "  \"city\": \"New York\"\n",
    "}\n",
    "print(type(x))\n",
    "\n",
    "# convert into JSON:\n",
    "y = json.dumps(x)\n",
    "\n",
    "# the result is a JSON string:\n",
    "print(y)\n",
    "print(type(y))"
   ]
  }
 ],
 "metadata": {
  "kernelspec": {
   "display_name": "Python 3",
   "language": "python",
   "name": "python3"
  },
  "language_info": {
   "codemirror_mode": {
    "name": "ipython",
    "version": 3
   },
   "file_extension": ".py",
   "mimetype": "text/x-python",
   "name": "python",
   "nbconvert_exporter": "python",
   "pygments_lexer": "ipython3",
   "version": "3.8.5"
  }
 },
 "nbformat": 4,
 "nbformat_minor": 4
}
